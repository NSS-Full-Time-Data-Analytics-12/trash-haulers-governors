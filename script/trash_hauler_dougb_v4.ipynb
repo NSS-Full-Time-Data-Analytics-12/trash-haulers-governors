{
 "cells": [
  {
   "cell_type": "code",
   "execution_count": 90,
   "id": "193b0603",
   "metadata": {},
   "outputs": [],
   "source": [
    "import pandas as pd\n",
    "import datetime as dt"
   ]
  },
  {
   "cell_type": "code",
   "execution_count": 91,
   "id": "3f17705e",
   "metadata": {},
   "outputs": [],
   "source": [
    "finable_df = pd.read_csv('../data/finable.csv')"
   ]
  },
  {
   "cell_type": "code",
   "execution_count": 92,
   "id": "731c0ebc",
   "metadata": {},
   "outputs": [],
   "source": [
    "finable_df['request_date'] = pd.to_datetime(finable_df['request_date'])"
   ]
  },
  {
   "cell_type": "code",
   "execution_count": 93,
   "id": "bfb63c48",
   "metadata": {},
   "outputs": [],
   "source": [
    "finable_df = finable_df.drop(columns = 'Unnamed: 0')"
   ]
  },
  {
   "cell_type": "code",
   "execution_count": 94,
   "id": "5d8aeff6",
   "metadata": {},
   "outputs": [],
   "source": [
    "unique_add = finable_df[['address', 'hauler']]"
   ]
  },
  {
   "cell_type": "code",
   "execution_count": 95,
   "id": "34ec0177",
   "metadata": {},
   "outputs": [],
   "source": [
    "unique_add = unique_add.drop_duplicates().reset_index(drop = True)"
   ]
  },
  {
   "cell_type": "code",
   "execution_count": 96,
   "id": "92149639",
   "metadata": {
    "scrolled": true
   },
   "outputs": [
    {
     "data": {
      "text/html": [
       "<div>\n",
       "<style scoped>\n",
       "    .dataframe tbody tr th:only-of-type {\n",
       "        vertical-align: middle;\n",
       "    }\n",
       "\n",
       "    .dataframe tbody tr th {\n",
       "        vertical-align: top;\n",
       "    }\n",
       "\n",
       "    .dataframe thead th {\n",
       "        text-align: right;\n",
       "    }\n",
       "</style>\n",
       "<table border=\"1\" class=\"dataframe\">\n",
       "  <thead>\n",
       "    <tr style=\"text-align: right;\">\n",
       "      <th></th>\n",
       "      <th>address</th>\n",
       "      <th>hauler</th>\n",
       "    </tr>\n",
       "  </thead>\n",
       "  <tbody>\n",
       "    <tr>\n",
       "      <th>0</th>\n",
       "      <td>4028 clarksville pike</td>\n",
       "      <td>RED RIVER</td>\n",
       "    </tr>\n",
       "    <tr>\n",
       "      <th>1</th>\n",
       "      <td>830 meridian st</td>\n",
       "      <td>METRO</td>\n",
       "    </tr>\n",
       "    <tr>\n",
       "      <th>2</th>\n",
       "      <td>2218 buena vista pike</td>\n",
       "      <td>RED RIVER</td>\n",
       "    </tr>\n",
       "    <tr>\n",
       "      <th>3</th>\n",
       "      <td>449 westboro dr</td>\n",
       "      <td>RED RIVER</td>\n",
       "    </tr>\n",
       "    <tr>\n",
       "      <th>4</th>\n",
       "      <td>1144 sewanee rd</td>\n",
       "      <td>RED RIVER</td>\n",
       "    </tr>\n",
       "    <tr>\n",
       "      <th>...</th>\n",
       "      <td>...</td>\n",
       "      <td>...</td>\n",
       "    </tr>\n",
       "    <tr>\n",
       "      <th>1428</th>\n",
       "      <td>317 42nd ave n</td>\n",
       "      <td>RED RIVER</td>\n",
       "    </tr>\n",
       "    <tr>\n",
       "      <th>1429</th>\n",
       "      <td>1808 eastland ave</td>\n",
       "      <td>METRO</td>\n",
       "    </tr>\n",
       "    <tr>\n",
       "      <th>1430</th>\n",
       "      <td>3321 cocoa dr</td>\n",
       "      <td>RED RIVER</td>\n",
       "    </tr>\n",
       "    <tr>\n",
       "      <th>1431</th>\n",
       "      <td>1334 rosedale ave</td>\n",
       "      <td>METRO</td>\n",
       "    </tr>\n",
       "    <tr>\n",
       "      <th>1432</th>\n",
       "      <td>1614 ashton ave</td>\n",
       "      <td>RED RIVER</td>\n",
       "    </tr>\n",
       "  </tbody>\n",
       "</table>\n",
       "<p>1433 rows × 2 columns</p>\n",
       "</div>"
      ],
      "text/plain": [
       "                    address     hauler\n",
       "0     4028 clarksville pike  RED RIVER\n",
       "1           830 meridian st      METRO\n",
       "2     2218 buena vista pike  RED RIVER\n",
       "3           449 westboro dr  RED RIVER\n",
       "4           1144 sewanee rd  RED RIVER\n",
       "...                     ...        ...\n",
       "1428         317 42nd ave n  RED RIVER\n",
       "1429      1808 eastland ave      METRO\n",
       "1430          3321 cocoa dr  RED RIVER\n",
       "1431      1334 rosedale ave      METRO\n",
       "1432        1614 ashton ave  RED RIVER\n",
       "\n",
       "[1433 rows x 2 columns]"
      ]
     },
     "execution_count": 96,
     "metadata": {},
     "output_type": "execute_result"
    }
   ],
   "source": [
    "unique_add"
   ]
  },
  {
   "cell_type": "code",
   "execution_count": 97,
   "id": "7a2a5b39",
   "metadata": {},
   "outputs": [],
   "source": [
    "hauler_list = unique_add[['hauler']]\n",
    "hauler_list = hauler_list.drop_duplicates().reset_index(drop=True)"
   ]
  },
  {
   "cell_type": "code",
   "execution_count": 98,
   "id": "33622e59",
   "metadata": {},
   "outputs": [
    {
     "data": {
      "text/html": [
       "<div>\n",
       "<style scoped>\n",
       "    .dataframe tbody tr th:only-of-type {\n",
       "        vertical-align: middle;\n",
       "    }\n",
       "\n",
       "    .dataframe tbody tr th {\n",
       "        vertical-align: top;\n",
       "    }\n",
       "\n",
       "    .dataframe thead th {\n",
       "        text-align: right;\n",
       "    }\n",
       "</style>\n",
       "<table border=\"1\" class=\"dataframe\">\n",
       "  <thead>\n",
       "    <tr style=\"text-align: right;\">\n",
       "      <th></th>\n",
       "      <th>hauler</th>\n",
       "      <th>fines</th>\n",
       "      <th>dollars</th>\n",
       "    </tr>\n",
       "  </thead>\n",
       "  <tbody>\n",
       "    <tr>\n",
       "      <th>0</th>\n",
       "      <td>RED RIVER</td>\n",
       "      <td>0</td>\n",
       "      <td>0</td>\n",
       "    </tr>\n",
       "    <tr>\n",
       "      <th>1</th>\n",
       "      <td>METRO</td>\n",
       "      <td>0</td>\n",
       "      <td>0</td>\n",
       "    </tr>\n",
       "    <tr>\n",
       "      <th>2</th>\n",
       "      <td>WASTE IND</td>\n",
       "      <td>0</td>\n",
       "      <td>0</td>\n",
       "    </tr>\n",
       "    <tr>\n",
       "      <th>3</th>\n",
       "      <td>unknown</td>\n",
       "      <td>0</td>\n",
       "      <td>0</td>\n",
       "    </tr>\n",
       "  </tbody>\n",
       "</table>\n",
       "</div>"
      ],
      "text/plain": [
       "      hauler  fines  dollars\n",
       "0  RED RIVER      0        0\n",
       "1      METRO      0        0\n",
       "2  WASTE IND      0        0\n",
       "3    unknown      0        0"
      ]
     },
     "execution_count": 98,
     "metadata": {},
     "output_type": "execute_result"
    }
   ],
   "source": [
    "hauler_list['fines'] = 0\n",
    "hauler_list['dollars'] = 0\n",
    "hauler_list"
   ]
  },
  {
   "cell_type": "code",
   "execution_count": 120,
   "id": "c3fe8ae6",
   "metadata": {},
   "outputs": [
    {
     "name": "stdout",
     "output_type": "stream",
     "text": [
      "RED RIVER  has  1996  fines\n",
      "RED RIVER  must pay $ 2994000\n",
      "METRO  has  425  fines\n",
      "METRO  must pay $ 637500\n",
      "WASTE IND  has  119  fines\n",
      "WASTE IND  must pay $ 178500\n",
      "unknown  has  6  fines\n",
      "unknown  must pay $ 9000\n"
     ]
    }
   ],
   "source": [
    "months6 = dt.timedelta(weeks=26)\n",
    "fines = 0\n",
    "for hauler_index, hauler_values in hauler_list.iterrows():\n",
    "    fines = 0\n",
    "    for addr_index, addr_values in unique_add.iterrows():\n",
    "        if hauler_values['hauler'] == addr_values['hauler']:\n",
    "            temp_df = finable_df.loc[finable_df['address']==addr_values['address']].sort_values('request_date')\n",
    "            #print(addr_values['address'])\n",
    "            #print(len(temp_df.index),' complaints')\n",
    "            complaints = len(temp_df.index)\n",
    "            counter = 1\n",
    "            while counter < (complaints-1):\n",
    "                #print('calculate')\n",
    "                #print('  ',temp_df.iloc[counter+1][1] - temp_df.iloc[counter-1][1])\n",
    "                if (temp_df.iloc[counter+1][1] - temp_df.iloc[counter-1][1]) < months6:\n",
    "                    fines = fines +1\n",
    "                    #print (fines, 'fines so far')\n",
    "                counter = counter + 1\n",
    "    print (hauler_values['hauler'], ' has ',fines,' fines')    \n",
    "    print (hauler_values['hauler'], ' must pay $', fines * 1500)\n",
    "            #counter\n",
    "            #damages += 1\n",
    "            #print(damages)"
   ]
  },
  {
   "cell_type": "code",
   "execution_count": 104,
   "id": "fb0e972c",
   "metadata": {},
   "outputs": [
    {
     "data": {
      "text/plain": [
       "hauler     unknown\n",
       "fines         2546\n",
       "dollars    3819000\n",
       "Name: 3, dtype: object"
      ]
     },
     "execution_count": 104,
     "metadata": {},
     "output_type": "execute_result"
    }
   ],
   "source": [
    "hauler_values"
   ]
  }
 ],
 "metadata": {
  "kernelspec": {
   "display_name": "Python 3 (ipykernel)",
   "language": "python",
   "name": "python3"
  },
  "language_info": {
   "codemirror_mode": {
    "name": "ipython",
    "version": 3
   },
   "file_extension": ".py",
   "mimetype": "text/x-python",
   "name": "python",
   "nbconvert_exporter": "python",
   "pygments_lexer": "ipython3",
   "version": "3.11.5"
  }
 },
 "nbformat": 4,
 "nbformat_minor": 5
}
