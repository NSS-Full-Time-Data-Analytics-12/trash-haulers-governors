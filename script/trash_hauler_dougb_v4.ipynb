{
 "cells": [
  {
   "cell_type": "code",
   "execution_count": 90,
   "id": "e9990d71",
   "metadata": {},
   "outputs": [],
   "source": [
    "import pandas as pd\n",
    "import datetime as dt"
   ]
  },
  {
   "cell_type": "code",
   "execution_count": 91,
   "id": "426852dd",
   "metadata": {},
   "outputs": [],
   "source": [
    "finable_df = pd.read_csv('../data/finable.csv')"
   ]
  },
  {
   "cell_type": "code",
   "execution_count": 92,
   "id": "f7808a89",
   "metadata": {},
   "outputs": [],
   "source": [
    "finable_df['request_date'] = pd.to_datetime(finable_df['request_date'])"
   ]
  },
  {
   "cell_type": "code",
   "execution_count": 93,
   "id": "337b5523",
   "metadata": {},
   "outputs": [],
   "source": [
    "finable_df = finable_df.drop(columns = 'Unnamed: 0')"
   ]
  },
  {
   "cell_type": "code",
   "execution_count": 94,
   "id": "5ffef401",
   "metadata": {},
   "outputs": [],
   "source": [
    "unique_add = finable_df[['address', 'hauler']]"
   ]
  },
  {
   "cell_type": "code",
   "execution_count": 95,
   "id": "590ab4a3",
   "metadata": {},
   "outputs": [],
   "source": [
    "unique_add = unique_add.drop_duplicates().reset_index(drop = True)"
   ]
  },
  {
   "cell_type": "code",
   "execution_count": 96,
   "id": "8620cfe8",
   "metadata": {
    "scrolled": true
   },
   "outputs": [
    {
     "data": {
      "text/html": [
       "<div>\n",
       "<style scoped>\n",
       "    .dataframe tbody tr th:only-of-type {\n",
       "        vertical-align: middle;\n",
       "    }\n",
       "\n",
       "    .dataframe tbody tr th {\n",
       "        vertical-align: top;\n",
       "    }\n",
       "\n",
       "    .dataframe thead th {\n",
       "        text-align: right;\n",
       "    }\n",
       "</style>\n",
       "<table border=\"1\" class=\"dataframe\">\n",
       "  <thead>\n",
       "    <tr style=\"text-align: right;\">\n",
       "      <th></th>\n",
       "      <th>address</th>\n",
       "      <th>hauler</th>\n",
       "    </tr>\n",
       "  </thead>\n",
       "  <tbody>\n",
       "    <tr>\n",
       "      <th>0</th>\n",
       "      <td>4028 clarksville pike</td>\n",
       "      <td>RED RIVER</td>\n",
       "    </tr>\n",
       "    <tr>\n",
       "      <th>1</th>\n",
       "      <td>830 meridian st</td>\n",
       "      <td>METRO</td>\n",
       "    </tr>\n",
       "    <tr>\n",
       "      <th>2</th>\n",
       "      <td>2218 buena vista pike</td>\n",
       "      <td>RED RIVER</td>\n",
       "    </tr>\n",
       "    <tr>\n",
       "      <th>3</th>\n",
       "      <td>449 westboro dr</td>\n",
       "      <td>RED RIVER</td>\n",
       "    </tr>\n",
       "    <tr>\n",
       "      <th>4</th>\n",
       "      <td>1144 sewanee rd</td>\n",
       "      <td>RED RIVER</td>\n",
       "    </tr>\n",
       "    <tr>\n",
       "      <th>...</th>\n",
       "      <td>...</td>\n",
       "      <td>...</td>\n",
       "    </tr>\n",
       "    <tr>\n",
       "      <th>1428</th>\n",
       "      <td>317 42nd ave n</td>\n",
       "      <td>RED RIVER</td>\n",
       "    </tr>\n",
       "    <tr>\n",
       "      <th>1429</th>\n",
       "      <td>1808 eastland ave</td>\n",
       "      <td>METRO</td>\n",
       "    </tr>\n",
       "    <tr>\n",
       "      <th>1430</th>\n",
       "      <td>3321 cocoa dr</td>\n",
       "      <td>RED RIVER</td>\n",
       "    </tr>\n",
       "    <tr>\n",
       "      <th>1431</th>\n",
       "      <td>1334 rosedale ave</td>\n",
       "      <td>METRO</td>\n",
       "    </tr>\n",
       "    <tr>\n",
       "      <th>1432</th>\n",
       "      <td>1614 ashton ave</td>\n",
       "      <td>RED RIVER</td>\n",
       "    </tr>\n",
       "  </tbody>\n",
       "</table>\n",
       "<p>1433 rows × 2 columns</p>\n",
       "</div>"
      ],
      "text/plain": [
       "                    address     hauler\n",
       "0     4028 clarksville pike  RED RIVER\n",
       "1           830 meridian st      METRO\n",
       "2     2218 buena vista pike  RED RIVER\n",
       "3           449 westboro dr  RED RIVER\n",
       "4           1144 sewanee rd  RED RIVER\n",
       "...                     ...        ...\n",
       "1428         317 42nd ave n  RED RIVER\n",
       "1429      1808 eastland ave      METRO\n",
       "1430          3321 cocoa dr  RED RIVER\n",
       "1431      1334 rosedale ave      METRO\n",
       "1432        1614 ashton ave  RED RIVER\n",
       "\n",
       "[1433 rows x 2 columns]"
      ]
     },
     "execution_count": 96,
     "metadata": {},
     "output_type": "execute_result"
    }
   ],
   "source": [
    "unique_add"
   ]
  },
  {
   "cell_type": "code",
   "execution_count": 97,
   "id": "95a6b846",
   "metadata": {},
   "outputs": [],
   "source": [
    "hauler_list = unique_add[['hauler']]\n",
    "hauler_list = hauler_list.drop_duplicates().reset_index(drop=True)"
   ]
  },
  {
   "cell_type": "code",
   "execution_count": 98,
   "id": "1b68c94f",
   "metadata": {},
   "outputs": [
    {
     "data": {
      "text/html": [
       "<div>\n",
       "<style scoped>\n",
       "    .dataframe tbody tr th:only-of-type {\n",
       "        vertical-align: middle;\n",
       "    }\n",
       "\n",
       "    .dataframe tbody tr th {\n",
       "        vertical-align: top;\n",
       "    }\n",
       "\n",
       "    .dataframe thead th {\n",
       "        text-align: right;\n",
       "    }\n",
       "</style>\n",
       "<table border=\"1\" class=\"dataframe\">\n",
       "  <thead>\n",
       "    <tr style=\"text-align: right;\">\n",
       "      <th></th>\n",
       "      <th>hauler</th>\n",
       "      <th>fines</th>\n",
       "      <th>dollars</th>\n",
       "    </tr>\n",
       "  </thead>\n",
       "  <tbody>\n",
       "    <tr>\n",
       "      <th>0</th>\n",
       "      <td>RED RIVER</td>\n",
       "      <td>0</td>\n",
       "      <td>0</td>\n",
       "    </tr>\n",
       "    <tr>\n",
       "      <th>1</th>\n",
       "      <td>METRO</td>\n",
       "      <td>0</td>\n",
       "      <td>0</td>\n",
       "    </tr>\n",
       "    <tr>\n",
       "      <th>2</th>\n",
       "      <td>WASTE IND</td>\n",
       "      <td>0</td>\n",
       "      <td>0</td>\n",
       "    </tr>\n",
       "    <tr>\n",
       "      <th>3</th>\n",
       "      <td>unknown</td>\n",
       "      <td>0</td>\n",
       "      <td>0</td>\n",
       "    </tr>\n",
       "  </tbody>\n",
       "</table>\n",
       "</div>"
      ],
      "text/plain": [
       "      hauler  fines  dollars\n",
       "0  RED RIVER      0        0\n",
       "1      METRO      0        0\n",
       "2  WASTE IND      0        0\n",
       "3    unknown      0        0"
      ]
     },
     "execution_count": 98,
     "metadata": {},
     "output_type": "execute_result"
    }
   ],
   "source": [
    "hauler_list['fines'] = 0\n",
    "hauler_list['dollars'] = 0\n",
    "hauler_list"
   ]
  },
  {
   "cell_type": "code",
   "execution_count": 120,
   "id": "9def7b7e",
   "metadata": {},
   "outputs": [
    {
     "name": "stdout",
     "output_type": "stream",
     "text": [
      "RED RIVER  has  1996  fines\n",
      "RED RIVER  must pay $ 2994000\n",
      "METRO  has  425  fines\n",
      "METRO  must pay $ 637500\n",
      "WASTE IND  has  119  fines\n",
      "WASTE IND  must pay $ 178500\n",
      "unknown  has  6  fines\n",
      "unknown  must pay $ 9000\n"
     ]
    }
   ],
   "source": [
    "months6 = dt.timedelta(weeks=26)\n",
    "fines = 0\n",
    "for hauler_index, hauler_values in hauler_list.iterrows():\n",
    "    fines = 0\n",
    "    for addr_index, addr_values in unique_add.iterrows():\n",
    "        if hauler_values['hauler'] == addr_values['hauler']:\n",
    "            temp_df = finable_df.loc[finable_df['address']==addr_values['address']].sort_values('request_date')\n",
    "            #print(addr_values['address'])\n",
    "            #print(len(temp_df.index),' complaints')\n",
    "            complaints = len(temp_df.index)\n",
    "            counter = 1\n",
    "            while counter < (complaints-1):\n",
    "                #print('calculate')\n",
    "                #print('  ',temp_df.iloc[counter+1][1] - temp_df.iloc[counter-1][1])\n",
    "                if (temp_df.iloc[counter+1][1] - temp_df.iloc[counter-1][1]) < months6:\n",
    "                    fines = fines +1\n",
    "                    #print (fines, 'fines so far')\n",
    "                counter = counter + 1\n",
    "    print (hauler_values['hauler'], ' has ',fines,' fines')    \n",
    "    print (hauler_values['hauler'], ' must pay $', fines * 1500)\n",
    "            #counter\n",
    "            #damages += 1\n",
    "            #print(damages)"
   ]
  },
  {
   "cell_type": "code",
   "execution_count": 121,
   "id": "769f0ab3",
   "metadata": {},
   "outputs": [
    {
     "data": {
      "text/plain": [
       "route\n",
       "1304     171\n",
       "1303     167\n",
       "4504     158\n",
       "3302     155\n",
       "1301     134\n",
       "        ... \n",
       "4305S      3\n",
       "4508       3\n",
       "3402S      3\n",
       "2207       3\n",
       "3411       3\n",
       "Name: count, Length: 160, dtype: int64"
      ]
     },
     "execution_count": 121,
     "metadata": {},
     "output_type": "execute_result"
    }
   ],
   "source": [
    "finable_df.route.value_counts()"
   ]
  },
  {
   "cell_type": "code",
   "execution_count": 122,
   "id": "29575028",
   "metadata": {},
   "outputs": [
    {
     "name": "stdout",
     "output_type": "stream",
     "text": [
      "RED RIVER  has  1061  fines\n",
      "RED RIVER  must pay $ 1591500\n",
      "METRO  has  231  fines\n",
      "METRO  must pay $ 346500\n",
      "WASTE IND  has  69  fines\n",
      "WASTE IND  must pay $ 103500\n",
      "unknown  has  5  fines\n",
      "unknown  must pay $ 7500\n"
     ]
    }
   ],
   "source": [
    "months6 = dt.timedelta(weeks=26)\n",
    "fines = 0\n",
    "for hauler_index, hauler_values in hauler_list.iterrows():\n",
    "    fines = 0\n",
    "    for addr_index, addr_values in unique_add.iterrows():\n",
    "        if hauler_values['hauler'] == addr_values['hauler']:\n",
    "            temp_df = finable_df.loc[finable_df['address']==addr_values['address']].sort_values('request_date')\n",
    "            #print(addr_values['address'])\n",
    "            #print(len(temp_df.index),' complaints')\n",
    "            complaints = len(temp_df.index)\n",
    "            counter = 1\n",
    "            while counter < (complaints-1):\n",
    "                #print('calculate')\n",
    "                #print('  ',temp_df.iloc[counter+1][1] - temp_df.iloc[counter-1][1])\n",
    "                if (temp_df.iloc[counter+1][1] - temp_df.iloc[counter-1][1]) < months6:\n",
    "                    fines = fines +1\n",
    "                    #print (fines, 'fines so far')\n",
    "                    counter = counter + 3\n",
    "                else:\n",
    "                    counter = counter + 1\n",
    "                \n",
    "    print (hauler_values['hauler'], ' has ',fines,' fines')    \n",
    "    print (hauler_values['hauler'], ' must pay $', fines * 1500)\n",
    "            #counter\n",
    "            #damages += 1\n",
    "            #print(damages)"
   ]
  },
  {
   "cell_type": "code",
   "execution_count": 123,
   "id": "004b552b",
   "metadata": {},
   "outputs": [
    {
     "data": {
      "text/plain": [
       "1366"
      ]
     },
     "execution_count": 123,
     "metadata": {},
     "output_type": "execute_result"
    }
   ],
   "source": [
    "1061+231+69+5\n"
   ]
  },
  {
   "cell_type": "code",
   "execution_count": 124,
   "id": "46634dbb",
   "metadata": {},
   "outputs": [
    {
     "data": {
      "text/plain": [
       "2049000"
      ]
     },
     "execution_count": 124,
     "metadata": {},
     "output_type": "execute_result"
    }
   ],
   "source": [
    "1591500+346500+103500+7500"
   ]
  },
  {
   "cell_type": "code",
   "execution_count": 130,
   "id": "36ed1aca",
   "metadata": {},
   "outputs": [
    {
     "data": {
      "text/html": [
       "<div>\n",
       "<style scoped>\n",
       "    .dataframe tbody tr th:only-of-type {\n",
       "        vertical-align: middle;\n",
       "    }\n",
       "\n",
       "    .dataframe tbody tr th {\n",
       "        vertical-align: top;\n",
       "    }\n",
       "\n",
       "    .dataframe thead th {\n",
       "        text-align: right;\n",
       "    }\n",
       "</style>\n",
       "<table border=\"1\" class=\"dataframe\">\n",
       "  <thead>\n",
       "    <tr style=\"text-align: right;\">\n",
       "      <th></th>\n",
       "      <th>zip_code</th>\n",
       "      <th>count</th>\n",
       "    </tr>\n",
       "  </thead>\n",
       "  <tbody>\n",
       "    <tr>\n",
       "      <th>0</th>\n",
       "      <td>37013</td>\n",
       "      <td>750</td>\n",
       "    </tr>\n",
       "    <tr>\n",
       "      <th>1</th>\n",
       "      <td>37205</td>\n",
       "      <td>684</td>\n",
       "    </tr>\n",
       "    <tr>\n",
       "      <th>2</th>\n",
       "      <td>37211</td>\n",
       "      <td>666</td>\n",
       "    </tr>\n",
       "    <tr>\n",
       "      <th>3</th>\n",
       "      <td>37215</td>\n",
       "      <td>519</td>\n",
       "    </tr>\n",
       "    <tr>\n",
       "      <th>4</th>\n",
       "      <td>37209</td>\n",
       "      <td>444</td>\n",
       "    </tr>\n",
       "    <tr>\n",
       "      <th>5</th>\n",
       "      <td>37115</td>\n",
       "      <td>410</td>\n",
       "    </tr>\n",
       "    <tr>\n",
       "      <th>6</th>\n",
       "      <td>37207</td>\n",
       "      <td>396</td>\n",
       "    </tr>\n",
       "    <tr>\n",
       "      <th>7</th>\n",
       "      <td>37218</td>\n",
       "      <td>339</td>\n",
       "    </tr>\n",
       "    <tr>\n",
       "      <th>8</th>\n",
       "      <td>37208</td>\n",
       "      <td>328</td>\n",
       "    </tr>\n",
       "    <tr>\n",
       "      <th>9</th>\n",
       "      <td>37214</td>\n",
       "      <td>267</td>\n",
       "    </tr>\n",
       "    <tr>\n",
       "      <th>10</th>\n",
       "      <td>37206</td>\n",
       "      <td>265</td>\n",
       "    </tr>\n",
       "    <tr>\n",
       "      <th>11</th>\n",
       "      <td>37217</td>\n",
       "      <td>245</td>\n",
       "    </tr>\n",
       "    <tr>\n",
       "      <th>12</th>\n",
       "      <td>37204</td>\n",
       "      <td>220</td>\n",
       "    </tr>\n",
       "    <tr>\n",
       "      <th>13</th>\n",
       "      <td>37216</td>\n",
       "      <td>207</td>\n",
       "    </tr>\n",
       "    <tr>\n",
       "      <th>14</th>\n",
       "      <td>37210</td>\n",
       "      <td>172</td>\n",
       "    </tr>\n",
       "    <tr>\n",
       "      <th>15</th>\n",
       "      <td>37203</td>\n",
       "      <td>162</td>\n",
       "    </tr>\n",
       "    <tr>\n",
       "      <th>16</th>\n",
       "      <td>37212</td>\n",
       "      <td>155</td>\n",
       "    </tr>\n",
       "    <tr>\n",
       "      <th>17</th>\n",
       "      <td>37220</td>\n",
       "      <td>84</td>\n",
       "    </tr>\n",
       "    <tr>\n",
       "      <th>18</th>\n",
       "      <td>37027</td>\n",
       "      <td>59</td>\n",
       "    </tr>\n",
       "    <tr>\n",
       "      <th>19</th>\n",
       "      <td>37189</td>\n",
       "      <td>21</td>\n",
       "    </tr>\n",
       "    <tr>\n",
       "      <th>20</th>\n",
       "      <td>37221</td>\n",
       "      <td>18</td>\n",
       "    </tr>\n",
       "    <tr>\n",
       "      <th>21</th>\n",
       "      <td>37201</td>\n",
       "      <td>17</td>\n",
       "    </tr>\n",
       "    <tr>\n",
       "      <th>22</th>\n",
       "      <td>37219</td>\n",
       "      <td>17</td>\n",
       "    </tr>\n",
       "  </tbody>\n",
       "</table>\n",
       "</div>"
      ],
      "text/plain": [
       "    zip_code  count\n",
       "0      37013    750\n",
       "1      37205    684\n",
       "2      37211    666\n",
       "3      37215    519\n",
       "4      37209    444\n",
       "5      37115    410\n",
       "6      37207    396\n",
       "7      37218    339\n",
       "8      37208    328\n",
       "9      37214    267\n",
       "10     37206    265\n",
       "11     37217    245\n",
       "12     37204    220\n",
       "13     37216    207\n",
       "14     37210    172\n",
       "15     37203    162\n",
       "16     37212    155\n",
       "17     37220     84\n",
       "18     37027     59\n",
       "19     37189     21\n",
       "20     37221     18\n",
       "21     37201     17\n",
       "22     37219     17"
      ]
     },
     "execution_count": 130,
     "metadata": {},
     "output_type": "execute_result"
    }
   ],
   "source": [
    "finable_df['zip_code'].value_counts().to_frame().reset_index()"
   ]
  },
  {
   "cell_type": "code",
   "execution_count": 132,
   "id": "77783ec1",
   "metadata": {},
   "outputs": [
    {
     "data": {
      "text/plain": [
       "address\n",
       "110 george l davis blvd     28\n",
       "5135 hickory hollow pkwy    23\n",
       "12546 old hickory blvd      21\n",
       "3710 n natchez ct           20\n",
       "6007 obrien ave             20\n",
       "                            ..\n",
       "2215 kirk ave                3\n",
       "557 whispering hills dr      3\n",
       "3629 longhaven xing          3\n",
       "615 harding pl               3\n",
       "1614 ashton ave              3\n",
       "Name: count, Length: 1433, dtype: int64"
      ]
     },
     "execution_count": 132,
     "metadata": {},
     "output_type": "execute_result"
    }
   ],
   "source": [
    "finable_df['address'].value_counts()"
   ]
  },
  {
   "cell_type": "code",
   "execution_count": null,
   "id": "cb49aaa8",
   "metadata": {},
   "outputs": [],
   "source": []
  }
 ],
 "metadata": {
  "kernelspec": {
   "display_name": "Python 3 (ipykernel)",
   "language": "python",
   "name": "python3"
  },
  "language_info": {
   "codemirror_mode": {
    "name": "ipython",
    "version": 3
   },
   "file_extension": ".py",
   "mimetype": "text/x-python",
   "name": "python",
   "nbconvert_exporter": "python",
   "pygments_lexer": "ipython3",
   "version": "3.11.5"
  }
 },
 "nbformat": 4,
 "nbformat_minor": 5
}
